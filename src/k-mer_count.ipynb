{
  "nbformat": 4,
  "nbformat_minor": 0,
  "metadata": {
    "colab": {
      "provenance": []
    },
    "kernelspec": {
      "name": "python3",
      "display_name": "Python 3"
    },
    "language_info": {
      "name": "python"
    }
  },
  "cells": [
    {
      "cell_type": "markdown",
      "source": [
        "# Imports"
      ],
      "metadata": {
        "id": "6sv_LvjAxThh"
      }
    },
    {
      "cell_type": "code",
      "execution_count": 1,
      "metadata": {
        "id": "7c4V2D5juAlL"
      },
      "outputs": [],
      "source": [
        "from pyspark import SparkContext\n",
        "from pyspark.streaming import StreamingContext"
      ]
    },
    {
      "cell_type": "markdown",
      "source": [
        "# Helper Function"
      ],
      "metadata": {
        "id": "MdapVGlWxWvv"
      }
    },
    {
      "cell_type": "code",
      "source": [
        "def generate_kmers(line: str, k: int = 3):\n",
        "    \"\"\"\n",
        "    Generate all k-mers of length k from a line of text using a for-loop.\n",
        "    Example: \"abcdef\", k=3 → ['abc', 'bcd', 'cde', 'def']\n",
        "    \"\"\"\n",
        "    kmers = []\n",
        "    line = line.strip().lower().replace(\" \", \"\")\n",
        "    line_length = len(line)\n",
        "\n",
        "    if line_length >= k:\n",
        "        for i in range(line_length - k + 1):\n",
        "            kmer = line[i:i+k]\n",
        "            kmers.append(kmer)\n",
        "\n",
        "    return kmers"
      ],
      "metadata": {
        "id": "GPBtf2qIxV4G"
      },
      "execution_count": 2,
      "outputs": []
    },
    {
      "cell_type": "markdown",
      "source": [
        "# K-Mer Count"
      ],
      "metadata": {
        "id": "UJ366vJyxnqc"
      }
    },
    {
      "cell_type": "markdown",
      "source": [
        "## Initialize Spark and Streaming Contexts"
      ],
      "metadata": {
        "id": "E3dm-eMXxsb3"
      }
    },
    {
      "cell_type": "code",
      "source": [
        "sc = SparkContext(\"local[2]\", \"KMerStreaming\")\n",
        "ssc = StreamingContext(sc, batchDuration=10)"
      ],
      "metadata": {
        "colab": {
          "base_uri": "https://localhost:8080/"
        },
        "id": "FqbJOLHLxqtQ",
        "outputId": "34ba2f16-6067-4871-d2c4-a2ffbf5a8cc0"
      },
      "execution_count": 4,
      "outputs": [
        {
          "output_type": "stream",
          "name": "stderr",
          "text": [
            "/usr/local/lib/python3.11/dist-packages/pyspark/streaming/context.py:72: FutureWarning: DStream is deprecated as of Spark 3.4.0. Migrate to Structured Streaming.\n",
            "  warnings.warn(\n"
          ]
        }
      ]
    },
    {
      "cell_type": "markdown",
      "source": [
        "## Create DStream from TCP source"
      ],
      "metadata": {
        "id": "LysuicuDxzrF"
      }
    },
    {
      "cell_type": "code",
      "source": [
        "lines = ssc.socketTextStream(\"localhost\", 9999)"
      ],
      "metadata": {
        "id": "bFjGiwsKxvfe"
      },
      "execution_count": 5,
      "outputs": []
    },
    {
      "cell_type": "markdown",
      "source": [
        "## Generate k-mers for each line"
      ],
      "metadata": {
        "id": "8_wZ-o0Zx2QW"
      }
    },
    {
      "cell_type": "code",
      "source": [
        "kmers = lines.flatMap(lambda line: generate_kmers(line, k=3))"
      ],
      "metadata": {
        "id": "ftKTDHDex0u0"
      },
      "execution_count": 6,
      "outputs": []
    },
    {
      "cell_type": "markdown",
      "source": [
        "## Count each k-mer"
      ],
      "metadata": {
        "id": "T1d_JvZcx6cB"
      }
    },
    {
      "cell_type": "code",
      "source": [
        "kmer_counts = kmers.map(lambda kmer: (kmer, 1)).reduceByKey(lambda a, b: a + b)"
      ],
      "metadata": {
        "id": "rIpajI1ex5J3"
      },
      "execution_count": 7,
      "outputs": []
    },
    {
      "cell_type": "markdown",
      "source": [
        "## Print the results"
      ],
      "metadata": {
        "id": "I7g3xGScx91A"
      }
    },
    {
      "cell_type": "code",
      "source": [
        "kmer_counts.pprint()"
      ],
      "metadata": {
        "id": "Nb6sHfsfx8au"
      },
      "execution_count": 8,
      "outputs": []
    },
    {
      "cell_type": "markdown",
      "source": [
        "## Start and wait for termination"
      ],
      "metadata": {
        "id": "LxUct7yryBix"
      }
    },
    {
      "cell_type": "code",
      "source": [
        "ssc.start()\n",
        "ssc.awaitTermination()"
      ],
      "metadata": {
        "id": "nupa6BBBx_Zl"
      },
      "execution_count": null,
      "outputs": []
    }
  ]
}
{
  "cells": [
    {
      "cell_type": "markdown",
      "metadata": {
        "id": "Hw8o89o_11o3"
      },
      "source": [
        "# Imports"
      ]
    },
    {
      "cell_type": "code",
      "execution_count": 1,
      "metadata": {
        "id": "LeguBwZ-13wc"
      },
      "outputs": [],
      "source": [
        "from pyspark import SparkContext"
      ]
    },
    {
      "cell_type": "markdown",
      "metadata": {
        "id": "TWPUYby8195p"
      },
      "source": [
        "# Helper Function"
      ]
    },
    {
      "cell_type": "code",
      "execution_count": null,
      "metadata": {
        "id": "0O7jT-_t1_zX"
      },
      "outputs": [],
      "source": [
        "def parse_links(line):\n",
        "    \"\"\"\n",
        "    Parses a line of pagelinks.txt and returns (source, [targets])\n",
        "    Example: '1: [49, 5]' -> (1, [49, 5])\n",
        "    \"\"\"\n",
        "    parts = line.strip().split(\":\")\n",
        "    source = int(parts[0])\n",
        "    targets = eval(parts[1])\n",
        "    return (source, targets)\n",
        "\n",
        "\n",
        "def compute_contributions(record):\n",
        "    \"\"\"\n",
        "    Compute the contribution of a page's rank to each of its neighbors.\n",
        "\n",
        "    Parameters:\n",
        "    record (tuple): A tuple in the form (page, (neighbors, rank)),\n",
        "                    where:\n",
        "                      - page (int): the source page ID\n",
        "                      - neighbors (list[int]): list of destination page IDs the page links to\n",
        "                      - rank (float): the current rank value of the page\n",
        "\n",
        "    Returns:\n",
        "    list[tuple]: A list of tuples (neighbor, contribution), where each neighbor\n",
        "                 receives an equal share of the page's rank.\n",
        "                 If the page has no outgoing links, returns an empty list.\n",
        "    \"\"\"\n",
        "    page, (neighbors, rank) = record\n",
        "    num_links = len(neighbors)\n",
        "    if num_links == 0:\n",
        "        return []\n",
        "    share = rank / num_links\n",
        "    return [(neighbor, share) for neighbor in neighbors]"
      ]
    },
    {
      "cell_type": "markdown",
      "metadata": {
        "id": "8M8r1dVb2EUX"
      },
      "source": [
        "# Page Rank"
      ]
    },
    {
      "cell_type": "markdown",
      "metadata": {
        "id": "NuJRcFSI2Gle"
      },
      "source": [
        "## Initialize `SparkContext`"
      ]
    },
    {
      "cell_type": "code",
      "execution_count": 3,
      "metadata": {
        "id": "rXTzZmwI2E_M"
      },
      "outputs": [
        {
          "name": "stderr",
          "output_type": "stream",
          "text": [
            "Setting default log level to \"WARN\".\n",
            "To adjust logging level use sc.setLogLevel(newLevel). For SparkR, use setLogLevel(newLevel).\n",
            "25/04/07 18:52:57 WARN NativeCodeLoader: Unable to load native-hadoop library for your platform... using builtin-java classes where applicable\n"
          ]
        }
      ],
      "source": [
        "sc = SparkContext(\"local\", \"PageRank\")"
      ]
    },
    {
      "cell_type": "markdown",
      "metadata": {
        "id": "9h2Zr_s02KoC"
      },
      "source": [
        "## Load and parse the link structure"
      ]
    },
    {
      "cell_type": "code",
      "execution_count": 4,
      "metadata": {
        "id": "zJhpQuOS2LB6"
      },
      "outputs": [],
      "source": [
        "lines = sc.textFile(\"pagelinks.txt\")\n",
        "links = lines.map(parse_links).cache()"
      ]
    },
    {
      "cell_type": "markdown",
      "metadata": {
        "id": "WpaZVctq2N42"
      },
      "source": [
        "## Initialize all ranks to 1.0"
      ]
    },
    {
      "cell_type": "code",
      "execution_count": 5,
      "metadata": {
        "id": "hXnDA7f12OW-"
      },
      "outputs": [],
      "source": [
        "ranks = links.mapValues(lambda _: 1.0)"
      ]
    },
    {
      "cell_type": "markdown",
      "metadata": {
        "id": "T8emsced2QrH"
      },
      "source": [
        "## PageRank Iterations"
      ]
    },
    {
      "cell_type": "code",
      "execution_count": 6,
      "metadata": {
        "id": "2J6wPeew2SC8"
      },
      "outputs": [],
      "source": [
        "damping_factor = 0.85\n",
        "num_iterations = 10\n",
        "\n",
        "for i in range(num_iterations):\n",
        "    joined = links.join(ranks)\n",
        "    contributions_rdd = joined.flatMap(compute_contributions)\n",
        "    ranks = contributions_rdd.reduceByKey(lambda a, b: a + b).mapValues(\n",
        "        lambda rank: (1 - damping_factor) + damping_factor * rank\n",
        "    )"
      ]
    },
    {
      "cell_type": "markdown",
      "metadata": {
        "id": "lmRmOMAQ3GH6"
      },
      "source": [
        "## Collect and sort final ranks"
      ]
    },
    {
      "cell_type": "code",
      "execution_count": 7,
      "metadata": {
        "id": "ptL3G0W03Gmu"
      },
      "outputs": [],
      "source": [
        "final_ranks = ranks.collect()\n",
        "sorted_ranks = sorted(final_ranks, key=lambda x: x[1], reverse=True)"
      ]
    },
    {
      "cell_type": "markdown",
      "metadata": {
        "id": "7kGw1GPd3JSH"
      },
      "source": [
        "## Output top and bottom results"
      ]
    },
    {
      "cell_type": "code",
      "execution_count": 8,
      "metadata": {
        "id": "j4BXVoT73Jx0"
      },
      "outputs": [
        {
          "name": "stdout",
          "output_type": "stream",
          "text": [
            "\n",
            "Top 5 nodes by PageRank:\n",
            "Node 49 → Rank: 3.28504\n",
            "Node 33 → Rank: 2.74142\n",
            "Node 62 → Rank: 2.67268\n",
            "Node 58 → Rank: 2.27572\n",
            "Node 61 → Rank: 2.08110\n",
            "\n",
            "Bottom 5 nodes by PageRank:\n",
            "Node 98 → Rank: 0.25399\n",
            "Node 65 → Rank: 0.24168\n",
            "Node 20 → Rank: 0.23869\n",
            "Node 66 → Rank: 0.20009\n",
            "Node 75 → Rank: 0.17398\n"
          ]
        }
      ],
      "source": [
        "print(\"\\nTop 5 nodes by PageRank:\")\n",
        "for item in sorted_ranks[:5]:\n",
        "    print(f\"Node {item[0]} → Rank: {item[1]:.5f}\")\n",
        "\n",
        "print(\"\\nBottom 5 nodes by PageRank:\")\n",
        "for item in sorted_ranks[-5:]:\n",
        "    print(f\"Node {item[0]} → Rank: {item[1]:.5f}\")"
      ]
    },
    {
      "cell_type": "markdown",
      "metadata": {
        "id": "ncztaC7g3Q3F"
      },
      "source": [
        "## Print highest and lowest"
      ]
    },
    {
      "cell_type": "code",
      "execution_count": 9,
      "metadata": {
        "id": "_EvzmWct3R5y"
      },
      "outputs": [
        {
          "name": "stdout",
          "output_type": "stream",
          "text": [
            "\n",
            "Highest Rank: Node 49 with score 3.28504\n",
            "Lowest Rank: Node 75 with score 0.17398\n"
          ]
        }
      ],
      "source": [
        "highest_node, highest_score = sorted_ranks[0]\n",
        "lowest_node, lowest_score = sorted_ranks[-1]\n",
        "\n",
        "print(f\"\\nHighest Rank: Node {highest_node} with score {highest_score:.5f}\")\n",
        "print(f\"Lowest Rank: Node {lowest_node} with score {lowest_score:.5f}\")"
      ]
    },
    {
      "cell_type": "markdown",
      "metadata": {
        "id": "PnwNDVsa3YLJ"
      },
      "source": [
        "## Stop `SparkContext`"
      ]
    },
    {
      "cell_type": "code",
      "execution_count": null,
      "metadata": {
        "id": "muLHJh6S3Y-R"
      },
      "outputs": [],
      "source": [
        "sc.stop()"
      ]
    }
  ],
  "metadata": {
    "colab": {
      "provenance": []
    },
    "kernelspec": {
      "display_name": "Python 3",
      "name": "python3"
    },
    "language_info": {
      "codemirror_mode": {
        "name": "ipython",
        "version": 3
      },
      "file_extension": ".py",
      "mimetype": "text/x-python",
      "name": "python",
      "nbconvert_exporter": "python",
      "pygments_lexer": "ipython3",
      "version": "3.12.7"
    }
  },
  "nbformat": 4,
  "nbformat_minor": 0
}

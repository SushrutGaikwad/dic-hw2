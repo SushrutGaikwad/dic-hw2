{
  "nbformat": 4,
  "nbformat_minor": 0,
  "metadata": {
    "colab": {
      "provenance": []
    },
    "kernelspec": {
      "name": "python3",
      "display_name": "Python 3"
    },
    "language_info": {
      "name": "python"
    }
  },
  "cells": [
    {
      "cell_type": "markdown",
      "source": [
        "# Imports"
      ],
      "metadata": {
        "id": "Hw8o89o_11o3"
      }
    },
    {
      "cell_type": "code",
      "source": [
        "from pyspark import SparkContext"
      ],
      "metadata": {
        "id": "LeguBwZ-13wc"
      },
      "execution_count": null,
      "outputs": []
    },
    {
      "cell_type": "markdown",
      "source": [
        "# Helper Function"
      ],
      "metadata": {
        "id": "TWPUYby8195p"
      }
    },
    {
      "cell_type": "code",
      "source": [
        "def parse_links(line):\n",
        "    \"\"\"\n",
        "    Parses a line of pagelinks.txt and returns (source, [targets])\n",
        "    Example: '1: [49, 5]' -> (1, [49, 5])\n",
        "    \"\"\"\n",
        "    parts = line.strip().split(\":\")\n",
        "    source = int(parts[0])\n",
        "    targets = eval(parts[1])\n",
        "    return (source, targets)\n",
        "\n",
        "\n",
        "def compute_contributions(links, ranks):\n",
        "    \"\"\"\n",
        "    Given an RDD of (page, ([neighbors], rank)), compute contributions\n",
        "    Each neighbor gets an equal share of the page's rank.\n",
        "    \"\"\"\n",
        "    contributions = []\n",
        "\n",
        "    for page, (neighbors, rank) in links.collect():\n",
        "        num_links = len(neighbors)\n",
        "        if num_links == 0:\n",
        "            continue\n",
        "        share = rank / num_links\n",
        "        for neighbor in neighbors:\n",
        "            contributions.append((neighbor, share))\n",
        "\n",
        "    return contributions"
      ],
      "metadata": {
        "id": "0O7jT-_t1_zX"
      },
      "execution_count": null,
      "outputs": []
    },
    {
      "cell_type": "markdown",
      "source": [
        "# Page Rank"
      ],
      "metadata": {
        "id": "8M8r1dVb2EUX"
      }
    },
    {
      "cell_type": "markdown",
      "source": [
        "## Initialize `SparkContext`"
      ],
      "metadata": {
        "id": "NuJRcFSI2Gle"
      }
    },
    {
      "cell_type": "code",
      "source": [
        "sc = SparkContext(\"local\", \"PageRank\")"
      ],
      "metadata": {
        "id": "rXTzZmwI2E_M"
      },
      "execution_count": null,
      "outputs": []
    },
    {
      "cell_type": "markdown",
      "source": [
        "## Load and parse the link structure"
      ],
      "metadata": {
        "id": "9h2Zr_s02KoC"
      }
    },
    {
      "cell_type": "code",
      "source": [
        "lines = sc.textFile(\"pagelinks.txt\")\n",
        "links = lines.map(parse_links).cache()"
      ],
      "metadata": {
        "id": "zJhpQuOS2LB6"
      },
      "execution_count": null,
      "outputs": []
    },
    {
      "cell_type": "markdown",
      "source": [
        "## Initialize all ranks to 1.0"
      ],
      "metadata": {
        "id": "WpaZVctq2N42"
      }
    },
    {
      "cell_type": "code",
      "source": [
        "ranks = links.mapValues(lambda _: 1.0)"
      ],
      "metadata": {
        "id": "hXnDA7f12OW-"
      },
      "execution_count": null,
      "outputs": []
    },
    {
      "cell_type": "markdown",
      "source": [
        "## PageRank Iterations"
      ],
      "metadata": {
        "id": "T8emsced2QrH"
      }
    },
    {
      "cell_type": "code",
      "source": [
        "damping_factor = 0.85\n",
        "num_iterations = 10\n",
        "\n",
        "for i in range(num_iterations):\n",
        "    joined = links.join(ranks)\n",
        "\n",
        "    contributions_rdd = joined.flatMap(\n",
        "        lambda x: compute_contributions([(x[0], x[1])], ranks)\n",
        "    )\n",
        "\n",
        "    ranks = contributions_rdd.reduceByKey(lambda a, b: a + b).mapValues(\n",
        "        lambda rank: (1 - damping_factor) + damping_factor * rank\n",
        "    )"
      ],
      "metadata": {
        "id": "2J6wPeew2SC8"
      },
      "execution_count": null,
      "outputs": []
    },
    {
      "cell_type": "markdown",
      "source": [
        "## Collect and sort final ranks"
      ],
      "metadata": {
        "id": "lmRmOMAQ3GH6"
      }
    },
    {
      "cell_type": "code",
      "source": [
        "final_ranks = ranks.collect()\n",
        "sorted_ranks = sorted(final_ranks, key=lambda x: x[1], reverse=True)"
      ],
      "metadata": {
        "id": "ptL3G0W03Gmu"
      },
      "execution_count": null,
      "outputs": []
    },
    {
      "cell_type": "markdown",
      "source": [
        "## Output top and bottom results"
      ],
      "metadata": {
        "id": "7kGw1GPd3JSH"
      }
    },
    {
      "cell_type": "code",
      "source": [
        "print(\"\\nTop 5 nodes by PageRank:\")\n",
        "for item in sorted_ranks[:5]:\n",
        "    print(f\"Node {item[0]} → Rank: {item[1]:.5f}\")\n",
        "\n",
        "print(\"\\nBottom 5 nodes by PageRank:\")\n",
        "for item in sorted_ranks[-5:]:\n",
        "    print(f\"Node {item[0]} → Rank: {item[1]:.5f}\")"
      ],
      "metadata": {
        "id": "j4BXVoT73Jx0"
      },
      "execution_count": null,
      "outputs": []
    },
    {
      "cell_type": "markdown",
      "source": [
        "## Print highest and lowest"
      ],
      "metadata": {
        "id": "ncztaC7g3Q3F"
      }
    },
    {
      "cell_type": "code",
      "source": [
        "highest_node, highest_score = sorted_ranks[0]\n",
        "lowest_node, lowest_score = sorted_ranks[-1]\n",
        "\n",
        "print(f\"\\nHighest Rank: Node {highest_node} with score {highest_score:.5f}\")\n",
        "print(f\"Lowest Rank: Node {lowest_node} with score {lowest_score:.5f}\")"
      ],
      "metadata": {
        "id": "_EvzmWct3R5y"
      },
      "execution_count": null,
      "outputs": []
    },
    {
      "cell_type": "markdown",
      "source": [
        "## Stop `SparkContext`"
      ],
      "metadata": {
        "id": "PnwNDVsa3YLJ"
      }
    },
    {
      "cell_type": "code",
      "source": [
        "sc.stop()"
      ],
      "metadata": {
        "id": "muLHJh6S3Y-R"
      },
      "execution_count": null,
      "outputs": []
    }
  ]
}